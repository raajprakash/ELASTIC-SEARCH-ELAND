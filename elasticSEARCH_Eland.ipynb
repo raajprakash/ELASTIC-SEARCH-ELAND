{
  "nbformat": 4,
  "nbformat_minor": 0,
  "metadata": {
    "colab": {
      "name": "elasticSEARCH/Eland.ipynb",
      "provenance": []
    },
    "kernelspec": {
      "name": "python3",
      "display_name": "Python 3"
    },
    "language_info": {
      "name": "python"
    }
  },
  "cells": [
    {
      "cell_type": "code",
      "metadata": {
        "colab": {
          "base_uri": "https://localhost:8080/"
        },
        "id": "bODTpFeLrdKz",
        "outputId": "f29b70c9-2958-4c20-b991-7edc801b37f5"
      },
      "source": [
        "!pip install eland\n",
        "!pip install elasticsearch_dsl"
      ],
      "execution_count": null,
      "outputs": [
        {
          "output_type": "stream",
          "text": [
            "Collecting eland\n",
            "\u001b[?25l  Downloading https://files.pythonhosted.org/packages/af/41/e6fac3b5ef1717e4fc824db0329642e01827b1f6d22c2165e15354f54abd/eland-7.10.1b1-py3-none-any.whl (120kB)\n",
            "\r\u001b[K     |██▊                             | 10kB 18.2MB/s eta 0:00:01\r\u001b[K     |█████▍                          | 20kB 24.1MB/s eta 0:00:01\r\u001b[K     |████████▏                       | 30kB 20.5MB/s eta 0:00:01\r\u001b[K     |██████████▉                     | 40kB 19.4MB/s eta 0:00:01\r\u001b[K     |█████████████▋                  | 51kB 22.0MB/s eta 0:00:01\r\u001b[K     |████████████████▎               | 61kB 17.0MB/s eta 0:00:01\r\u001b[K     |███████████████████             | 71kB 17.4MB/s eta 0:00:01\r\u001b[K     |█████████████████████▊          | 81kB 16.4MB/s eta 0:00:01\r\u001b[K     |████████████████████████▍       | 92kB 15.6MB/s eta 0:00:01\r\u001b[K     |███████████████████████████▏    | 102kB 16.8MB/s eta 0:00:01\r\u001b[K     |█████████████████████████████▉  | 112kB 16.8MB/s eta 0:00:01\r\u001b[K     |████████████████████████████████| 122kB 16.8MB/s \n",
            "\u001b[?25hRequirement already satisfied: pandas>=1 in /usr/local/lib/python3.7/dist-packages (from eland) (1.1.5)\n",
            "Requirement already satisfied: matplotlib in /usr/local/lib/python3.7/dist-packages (from eland) (3.2.2)\n",
            "Requirement already satisfied: numpy in /usr/local/lib/python3.7/dist-packages (from eland) (1.19.5)\n",
            "Collecting elasticsearch>=7.7\n",
            "\u001b[?25l  Downloading https://files.pythonhosted.org/packages/09/93/461a042becf2a35a666fb7dbb2fa31f0f766dfd1b01e7d971f4ad51f0d69/elasticsearch-7.12.0-py2.py3-none-any.whl (334kB)\n",
            "\u001b[K     |████████████████████████████████| 337kB 34.8MB/s \n",
            "\u001b[?25hRequirement already satisfied: pytz>=2017.2 in /usr/local/lib/python3.7/dist-packages (from pandas>=1->eland) (2018.9)\n",
            "Requirement already satisfied: python-dateutil>=2.7.3 in /usr/local/lib/python3.7/dist-packages (from pandas>=1->eland) (2.8.1)\n",
            "Requirement already satisfied: cycler>=0.10 in /usr/local/lib/python3.7/dist-packages (from matplotlib->eland) (0.10.0)\n",
            "Requirement already satisfied: pyparsing!=2.0.4,!=2.1.2,!=2.1.6,>=2.0.1 in /usr/local/lib/python3.7/dist-packages (from matplotlib->eland) (2.4.7)\n",
            "Requirement already satisfied: kiwisolver>=1.0.1 in /usr/local/lib/python3.7/dist-packages (from matplotlib->eland) (1.3.1)\n",
            "Requirement already satisfied: urllib3<2,>=1.21.1 in /usr/local/lib/python3.7/dist-packages (from elasticsearch>=7.7->eland) (1.24.3)\n",
            "Requirement already satisfied: certifi in /usr/local/lib/python3.7/dist-packages (from elasticsearch>=7.7->eland) (2020.12.5)\n",
            "Requirement already satisfied: six>=1.5 in /usr/local/lib/python3.7/dist-packages (from python-dateutil>=2.7.3->pandas>=1->eland) (1.15.0)\n",
            "Installing collected packages: elasticsearch, eland\n",
            "Successfully installed eland-7.10.1b1 elasticsearch-7.12.0\n",
            "Collecting elasticsearch_dsl\n",
            "\u001b[?25l  Downloading https://files.pythonhosted.org/packages/f4/ad/f194bbbf3b4884794a3863342d95603cbf2d0e9f11129bd9481067f35fe8/elasticsearch_dsl-7.3.0-py2.py3-none-any.whl (62kB)\n",
            "\u001b[K     |████████████████████████████████| 71kB 6.6MB/s \n",
            "\u001b[?25hRequirement already satisfied: elasticsearch<8.0.0,>=7.0.0 in /usr/local/lib/python3.7/dist-packages (from elasticsearch_dsl) (7.12.0)\n",
            "Requirement already satisfied: python-dateutil in /usr/local/lib/python3.7/dist-packages (from elasticsearch_dsl) (2.8.1)\n",
            "Requirement already satisfied: six in /usr/local/lib/python3.7/dist-packages (from elasticsearch_dsl) (1.15.0)\n",
            "Requirement already satisfied: certifi in /usr/local/lib/python3.7/dist-packages (from elasticsearch<8.0.0,>=7.0.0->elasticsearch_dsl) (2020.12.5)\n",
            "Requirement already satisfied: urllib3<2,>=1.21.1 in /usr/local/lib/python3.7/dist-packages (from elasticsearch<8.0.0,>=7.0.0->elasticsearch_dsl) (1.24.3)\n",
            "Installing collected packages: elasticsearch-dsl\n",
            "Successfully installed elasticsearch-dsl-7.3.0\n"
          ],
          "name": "stdout"
        }
      ]
    },
    {
      "cell_type": "code",
      "metadata": {
        "id": "GARugb6Pr7v9"
      },
      "source": [
        "# Importing Eland and low-level Elasticsearch clients for comparison\n",
        "import eland as ed\n",
        "from eland.conftest import *\n",
        "from elasticsearch import Elasticsearch\n",
        "from elasticsearch_dsl import Search, Q\n",
        "\n",
        "# Import pandas and numpy for data wrangling\n",
        "import pandas as pd\n",
        "import numpy as np\n",
        "\n",
        "# For pretty-printing\n",
        "import json"
      ],
      "execution_count": null,
      "outputs": []
    },
    {
      "cell_type": "code",
      "metadata": {
        "id": "1Zxn04yrXC3_"
      },
      "source": [
        "#Load elastic cloud ID\n",
        "with open('password.txt') as f:\n",
        "    ELASTIC_CLOUD_PASSWORD = f.read()\n",
        "ELASTIC_CLOUD_ID = 'ELAND:dXMtd2VzdDEuZ2NwLmNsb3VkLmVzLmlvJDI3YzgyZGUyZTcyMzQ2OGM5NzhiMTAxYTNiMzFkOWIzJDlhM2NlZDM4NmI3YTQwNGJhYjM3ZjQ5Njc3MWRiMmRi'\n",
        "    "
      ],
      "execution_count": null,
      "outputs": []
    },
    {
      "cell_type": "code",
      "metadata": {
        "id": "bVxIF_jyXDAf"
      },
      "source": [
        "# Standard imports\n",
        "import eland as ed\n",
        "import pandas as pd\n",
        "import numpy as np\n",
        "from elasticsearch import Elasticsearch\n",
        "\n",
        "# Function for pretty-printing JSON\n",
        "def json(x):\n",
        "    import json\n",
        "    print(json.dumps(x, indent=2, sort_keys=True))"
      ],
      "execution_count": null,
      "outputs": []
    },
    {
      "cell_type": "code",
      "metadata": {
        "colab": {
          "base_uri": "https://localhost:8080/"
        },
        "id": "qQjVEN5qXDEE",
        "outputId": "7bf1e7df-4371-4de6-9455-f96e16b7eac8"
      },
      "source": [
        "# Connect to an Elastic Cloud instance\n",
        "# or another Elasticsearch index below\n",
        "\n",
        "es = Elasticsearch(\n",
        "  cloud_id=ELASTIC_CLOUD_ID,\n",
        "  http_auth=(\"elastic\", ELASTIC_CLOUD_PASSWORD)\n",
        ")\n",
        "json(es.info())"
      ],
      "execution_count": null,
      "outputs": [
        {
          "output_type": "stream",
          "text": [
            "{\n",
            "  \"cluster_name\": \"27c82de2e723468c978b101a3b31d9b3\",\n",
            "  \"cluster_uuid\": \"xcEz2KguTSKWKyWXNmG8Qg\",\n",
            "  \"name\": \"instance-0000000001\",\n",
            "  \"tagline\": \"You Know, for Search\",\n",
            "  \"version\": {\n",
            "    \"build_date\": \"2021-03-18T06:17:15.410153305Z\",\n",
            "    \"build_flavor\": \"default\",\n",
            "    \"build_hash\": \"78722783c38caa25a70982b5b042074cde5d3b3a\",\n",
            "    \"build_snapshot\": false,\n",
            "    \"build_type\": \"docker\",\n",
            "    \"lucene_version\": \"8.8.0\",\n",
            "    \"minimum_index_compatibility_version\": \"6.0.0-beta1\",\n",
            "    \"minimum_wire_compatibility_version\": \"6.8.0\",\n",
            "    \"number\": \"7.12.0\"\n",
            "  }\n",
            "}\n"
          ],
          "name": "stdout"
        }
      ]
    },
    {
      "cell_type": "code",
      "metadata": {
        "colab": {
          "base_uri": "https://localhost:8080/"
        },
        "id": "xcFnr5G8XDHV",
        "outputId": "a504daa5-6741-4181-c26a-7aa1d0b0b4bb"
      },
      "source": [
        "# Load the dataset from NYC Open Data and take a look\n",
        "pd_df = pd.read_csv(\"rolando.csv\").dropna()\n",
        "pd_df.info()"
      ],
      "execution_count": null,
      "outputs": [
        {
          "output_type": "stream",
          "text": [
            "/usr/local/lib/python3.7/dist-packages/IPython/core/interactiveshell.py:2718: DtypeWarning: Columns (6) have mixed types.Specify dtype option on import or set low_memory=False.\n",
            "  interactivity=interactivity, compiler=compiler, result=result)\n"
          ],
          "name": "stderr"
        },
        {
          "output_type": "stream",
          "text": [
            "<class 'pandas.core.frame.DataFrame'>\n",
            "Int64Index: 365792 entries, 0 to 394127\n",
            "Data columns (total 17 columns):\n",
            " #   Column            Non-Null Count   Dtype  \n",
            "---  ------            --------------   -----  \n",
            " 0   CAMIS             365792 non-null  int64  \n",
            " 1   DBA               365792 non-null  object \n",
            " 2   BORO              365792 non-null  object \n",
            " 3   BUILDING          365792 non-null  object \n",
            " 4   STREET            365792 non-null  object \n",
            " 5   ZIPCODE           365792 non-null  float64\n",
            " 6   PHONE             365792 non-null  object \n",
            " 7   ACTION            365792 non-null  object \n",
            " 8   SCORE             365792 non-null  float64\n",
            " 9   Latitude          365792 non-null  float64\n",
            " 10  Longitude         365792 non-null  float64\n",
            " 11  Community Board   365792 non-null  float64\n",
            " 12  Council District  365792 non-null  float64\n",
            " 13  Census Tract      365792 non-null  float64\n",
            " 14  BIN               365792 non-null  float64\n",
            " 15  BBL               365792 non-null  float64\n",
            " 16  NTA               365792 non-null  object \n",
            "dtypes: float64(9), int64(1), object(7)\n",
            "memory usage: 50.2+ MB\n"
          ],
          "name": "stdout"
        }
      ]
    },
    {
      "cell_type": "code",
      "metadata": {
        "colab": {
          "base_uri": "https://localhost:8080/"
        },
        "id": "-xtmnNRHrjG6",
        "outputId": "bdb5b4bf-14ac-4190-8bae-a07a26a3d6ba"
      },
      "source": [
        "# Rename the columns to be snake_case\n",
        "pd_df.columns = [x.lower().replace(\" \", \"_\") for x in pd_df.columns]\n",
        "\n",
        "# Combine the 'latitude' and 'longitude' columns into one column 'location' for 'geo_point'\n",
        "pd_df[\"location\"] = pd_df[[\"latitude\", \"longitude\"]].apply(lambda x: \",\".join(str(item) for item in x), axis=1)\n",
        "\n",
        "# Drop the old columns in favor of 'location'\n",
        "pd_df.drop([\"latitude\", \"longitude\"], axis=1, inplace=True)\n",
        "\n",
        "pd_df.info()"
      ],
      "execution_count": null,
      "outputs": [
        {
          "output_type": "stream",
          "text": [
            "<class 'pandas.core.frame.DataFrame'>\n",
            "Int64Index: 365792 entries, 0 to 394127\n",
            "Data columns (total 16 columns):\n",
            " #   Column            Non-Null Count   Dtype  \n",
            "---  ------            --------------   -----  \n",
            " 0   camis             365792 non-null  int64  \n",
            " 1   dba               365792 non-null  object \n",
            " 2   boro              365792 non-null  object \n",
            " 3   building          365792 non-null  object \n",
            " 4   street            365792 non-null  object \n",
            " 5   zipcode           365792 non-null  float64\n",
            " 6   phone             365792 non-null  object \n",
            " 7   action            365792 non-null  object \n",
            " 8   score             365792 non-null  float64\n",
            " 9   community_board   365792 non-null  float64\n",
            " 10  council_district  365792 non-null  float64\n",
            " 11  census_tract      365792 non-null  float64\n",
            " 12  bin               365792 non-null  float64\n",
            " 13  bbl               365792 non-null  float64\n",
            " 14  nta               365792 non-null  object \n",
            " 15  location          365792 non-null  object \n",
            "dtypes: float64(7), int64(1), object(8)\n",
            "memory usage: 47.4+ MB\n"
          ],
          "name": "stdout"
        }
      ]
    },
    {
      "cell_type": "code",
      "metadata": {
        "colab": {
          "base_uri": "https://localhost:8080/"
        },
        "id": "nllxN-f4sTsI",
        "outputId": "4989376a-ac3b-49be-838f-f03e082a1086"
      },
      "source": [
        "df = ed.pandas_to_eland(\n",
        "    pd_df=pd_df,\n",
        "    es_client=es,\n",
        "\n",
        "    # Where the data will live in Elasticsearch\n",
        "    es_dest_index=\"nyc-restaurants\",\n",
        "\n",
        "    # Type overrides for certain columns, 'location' detected\n",
        "    # automatically as 'keyword' but we want these interpreted as 'geo_point'.\n",
        "    es_type_overrides={\n",
        "        \"location\": \"geo_point\",\n",
        "        \"dba\": \"text\",\n",
        "        \"zipcode\": \"short\"\n",
        "    },\n",
        "\n",
        "    # If the index already exists what should we do?\n",
        "    es_if_exists=\"replace\",\n",
        "\n",
        "    # Wait for data to be indexed before returning\n",
        "    es_refresh=True,\n",
        ")\n",
        "df.info()"
      ],
      "execution_count": null,
      "outputs": [
        {
          "output_type": "stream",
          "text": [
            "<class 'eland.dataframe.DataFrame'>\n",
            "Index: 365792 entries, 26587 to 393208\n",
            "Data columns (total 16 columns):\n",
            " #   Column            Non-Null Count   Dtype  \n",
            "---  ------            --------------   -----  \n",
            " 0   action            365792 non-null  object \n",
            " 1   bbl               365792 non-null  float64\n",
            " 2   bin               365792 non-null  float64\n",
            " 3   boro              365792 non-null  object \n",
            " 4   building          365792 non-null  object \n",
            " 5   camis             365792 non-null  int64  \n",
            " 6   census_tract      365792 non-null  float64\n",
            " 7   community_board   365792 non-null  float64\n",
            " 8   council_district  365792 non-null  float64\n",
            " 9   dba               365792 non-null  object \n",
            " 10  location          365792 non-null  object \n",
            " 11  nta               365792 non-null  object \n",
            " 12  phone             365792 non-null  object \n",
            " 13  score             365792 non-null  float64\n",
            " 14  street            365792 non-null  object \n",
            " 15  zipcode           365792 non-null  int64  \n",
            "dtypes: float64(6), int64(2), object(8)\n",
            "memory usage: 96.000 bytes\n",
            "Elasticsearch storage usage: 106.171 MB\n"
          ],
          "name": "stdout"
        }
      ]
    },
    {
      "cell_type": "code",
      "metadata": {
        "colab": {
          "base_uri": "https://localhost:8080/"
        },
        "id": "hCBgvGHPZW_M",
        "outputId": "173c90bb-0956-459e-9cab-451b74ac62e5"
      },
      "source": [
        "json(es.indices.get_mapping(index=\"nyc-restaurants\"))\n"
      ],
      "execution_count": null,
      "outputs": [
        {
          "output_type": "stream",
          "text": [
            "{\n",
            "  \"nyc-restaurants\": {\n",
            "    \"mappings\": {\n",
            "      \"properties\": {\n",
            "        \"action\": {\n",
            "          \"type\": \"keyword\"\n",
            "        },\n",
            "        \"bbl\": {\n",
            "          \"type\": \"double\"\n",
            "        },\n",
            "        \"bin\": {\n",
            "          \"type\": \"double\"\n",
            "        },\n",
            "        \"boro\": {\n",
            "          \"type\": \"keyword\"\n",
            "        },\n",
            "        \"building\": {\n",
            "          \"type\": \"keyword\"\n",
            "        },\n",
            "        \"camis\": {\n",
            "          \"type\": \"long\"\n",
            "        },\n",
            "        \"census_tract\": {\n",
            "          \"type\": \"double\"\n",
            "        },\n",
            "        \"community_board\": {\n",
            "          \"type\": \"double\"\n",
            "        },\n",
            "        \"council_district\": {\n",
            "          \"type\": \"double\"\n",
            "        },\n",
            "        \"dba\": {\n",
            "          \"fields\": {\n",
            "            \"keyword\": {\n",
            "              \"type\": \"keyword\"\n",
            "            }\n",
            "          },\n",
            "          \"type\": \"text\"\n",
            "        },\n",
            "        \"location\": {\n",
            "          \"type\": \"geo_point\"\n",
            "        },\n",
            "        \"nta\": {\n",
            "          \"type\": \"keyword\"\n",
            "        },\n",
            "        \"phone\": {\n",
            "          \"type\": \"keyword\"\n",
            "        },\n",
            "        \"score\": {\n",
            "          \"type\": \"double\"\n",
            "        },\n",
            "        \"street\": {\n",
            "          \"type\": \"keyword\"\n",
            "        },\n",
            "        \"zipcode\": {\n",
            "          \"type\": \"short\"\n",
            "        }\n",
            "      }\n",
            "    }\n",
            "  }\n",
            "}\n"
          ],
          "name": "stdout"
        }
      ]
    },
    {
      "cell_type": "code",
      "metadata": {
        "colab": {
          "base_uri": "https://localhost:8080/"
        },
        "id": "KFyvDXC3ZaTh",
        "outputId": "b7230ca6-b199-4a72-fbd5-e2606bf2ef64"
      },
      "source": [
        "# Shape is determined by using count API\n",
        "df.shape"
      ],
      "execution_count": null,
      "outputs": [
        {
          "output_type": "execute_result",
          "data": {
            "text/plain": [
              "(365792, 16)"
            ]
          },
          "metadata": {
            "tags": []
          },
          "execution_count": 19
        }
      ]
    },
    {
      "cell_type": "code",
      "metadata": {
        "colab": {
          "base_uri": "https://localhost:8080/"
        },
        "id": "86MCex5GZdOI",
        "outputId": "42be267a-1ec4-460a-932c-fcee2a210322"
      },
      "source": [
        "# DataFrame has many APIs compatible with Pandas\n",
        "\n",
        "#df.head(10)\n",
        "#df.columns\n",
        "df.dba\n",
        "#df[\"grade\"]\n",
        "#df[df.grade.isin([\"A\", \"B\"])]\n",
        "#print(df[df.score.isin([\"A\", \"B\"])].es_info())\n",
        "#print(df.tail(10).es_info())"
      ],
      "execution_count": null,
      "outputs": [
        {
          "output_type": "execute_result",
          "data": {
            "text/plain": [
              "5419      BUDDHA BODAI ONE VEGETARIAN RESTAURANT\n",
              "5406                       LAS PALMAS RESTAURANT\n",
              "5420                                 EAT ITALIAN\n",
              "5408                                LADUREE SOHO\n",
              "5422                                 EAT ITALIAN\n",
              "                           ...                  \n",
              "393204                      EMPANADAS MONUMENTAL\n",
              "393205                       LEANLY CHINESE FOOD\n",
              "393206                       LEANLY CHINESE FOOD\n",
              "393207                       LEANLY CHINESE FOOD\n",
              "393208                       LEANLY CHINESE FOOD\n",
              "Name: dba, Length: 365792, dtype: object"
            ]
          },
          "metadata": {
            "tags": []
          },
          "execution_count": 36
        }
      ]
    },
    {
      "cell_type": "code",
      "metadata": {
        "colab": {
          "base_uri": "https://localhost:8080/",
          "height": 326
        },
        "id": "heunDF1GZfpe",
        "outputId": "94aee9c3-6c6f-4fe5-9aa5-70e519efafa6"
      },
      "source": [
        "# Aggregating values\n",
        "df.describe()"
      ],
      "execution_count": null,
      "outputs": [
        {
          "output_type": "execute_result",
          "data": {
            "text/html": [
              "<div>\n",
              "<style scoped>\n",
              "    .dataframe tbody tr th:only-of-type {\n",
              "        vertical-align: middle;\n",
              "    }\n",
              "\n",
              "    .dataframe tbody tr th {\n",
              "        vertical-align: top;\n",
              "    }\n",
              "\n",
              "    .dataframe thead th {\n",
              "        text-align: right;\n",
              "    }\n",
              "</style>\n",
              "<table border=\"1\" class=\"dataframe\">\n",
              "  <thead>\n",
              "    <tr style=\"text-align: right;\">\n",
              "      <th></th>\n",
              "      <th>bbl</th>\n",
              "      <th>bin</th>\n",
              "      <th>...</th>\n",
              "      <th>score</th>\n",
              "      <th>zipcode</th>\n",
              "    </tr>\n",
              "  </thead>\n",
              "  <tbody>\n",
              "    <tr>\n",
              "      <th>count</th>\n",
              "      <td>3.657920e+05</td>\n",
              "      <td>3.657920e+05</td>\n",
              "      <td>...</td>\n",
              "      <td>365792.000000</td>\n",
              "      <td>365792.000000</td>\n",
              "    </tr>\n",
              "    <tr>\n",
              "      <th>mean</th>\n",
              "      <td>2.448504e+09</td>\n",
              "      <td>2.510573e+06</td>\n",
              "      <td>...</td>\n",
              "      <td>20.125364</td>\n",
              "      <td>10677.396898</td>\n",
              "    </tr>\n",
              "    <tr>\n",
              "      <th>std</th>\n",
              "      <td>1.312592e+09</td>\n",
              "      <td>1.350022e+06</td>\n",
              "      <td>...</td>\n",
              "      <td>14.724959</td>\n",
              "      <td>595.785603</td>\n",
              "    </tr>\n",
              "    <tr>\n",
              "      <th>min</th>\n",
              "      <td>1.000000e+09</td>\n",
              "      <td>1.000000e+06</td>\n",
              "      <td>...</td>\n",
              "      <td>-1.000000</td>\n",
              "      <td>10000.000000</td>\n",
              "    </tr>\n",
              "    <tr>\n",
              "      <th>25%</th>\n",
              "      <td>1.011196e+09</td>\n",
              "      <td>1.042990e+06</td>\n",
              "      <td>...</td>\n",
              "      <td>11.000000</td>\n",
              "      <td>10022.000000</td>\n",
              "    </tr>\n",
              "    <tr>\n",
              "      <th>50%</th>\n",
              "      <td>3.003593e+09</td>\n",
              "      <td>3.007535e+06</td>\n",
              "      <td>...</td>\n",
              "      <td>15.000000</td>\n",
              "      <td>10468.110742</td>\n",
              "    </tr>\n",
              "    <tr>\n",
              "      <th>75%</th>\n",
              "      <td>4.002990e+09</td>\n",
              "      <td>4.002443e+06</td>\n",
              "      <td>...</td>\n",
              "      <td>25.866637</td>\n",
              "      <td>11228.835157</td>\n",
              "    </tr>\n",
              "    <tr>\n",
              "      <th>max</th>\n",
              "      <td>5.270001e+09</td>\n",
              "      <td>5.799501e+06</td>\n",
              "      <td>...</td>\n",
              "      <td>164.000000</td>\n",
              "      <td>12345.000000</td>\n",
              "    </tr>\n",
              "  </tbody>\n",
              "</table>\n",
              "<p>8 rows × 8 columns</p>\n",
              "</div>"
            ],
            "text/plain": [
              "                bbl           bin  ...          score        zipcode\n",
              "count  3.657920e+05  3.657920e+05  ...  365792.000000  365792.000000\n",
              "mean   2.448504e+09  2.510573e+06  ...      20.125364   10677.396898\n",
              "std    1.312592e+09  1.350022e+06  ...      14.724959     595.785603\n",
              "min    1.000000e+09  1.000000e+06  ...      -1.000000   10000.000000\n",
              "25%    1.011196e+09  1.042990e+06  ...      11.000000   10022.000000\n",
              "50%    3.003593e+09  3.007535e+06  ...      15.000000   10468.110742\n",
              "75%    4.002990e+09  4.002443e+06  ...      25.866637   11228.835157\n",
              "max    5.270001e+09  5.799501e+06  ...     164.000000   12345.000000\n",
              "\n",
              "[8 rows x 8 columns]"
            ]
          },
          "metadata": {
            "tags": []
          },
          "execution_count": 22
        }
      ]
    },
    {
      "cell_type": "code",
      "metadata": {
        "colab": {
          "base_uri": "https://localhost:8080/",
          "height": 607
        },
        "id": "qux9BQdKZsvy",
        "outputId": "1ea2bf2b-8fe4-4115-8513-a1ab57005ce2"
      },
      "source": [
        "# Plotting with matplotlib\n",
        "from matplotlib import pyplot as plt\n",
        "\n",
        "df[[\"score\"]].hist(figsize=[10,10])\n",
        "plt.show()"
      ],
      "execution_count": null,
      "outputs": [
        {
          "output_type": "display_data",
          "data": {
            "image/png": "[encoded data removed]",
            "text/plain": [
              "<Figure size 720x720 with 1 Axes>"
            ]
          },
          "metadata": {
            "tags": [],
            "needs_background": "light"
          }
        }
      ]
    },
    {
      "cell_type": "code",
      "metadata": {
        "colab": {
          "base_uri": "https://localhost:8080/",
          "height": 419
        },
        "id": "4-l9HwACZ2oV",
        "outputId": "e6ce1bab-95a8-4263-e7e3-0c492bd32eb4"
      },
      "source": [
        "# es_query() allows for the full Elasticsearch querying capabilities\n",
        "df.es_query({\n",
        "  \"geo_distance\": {\n",
        "    \"distance\": \"50m\",\n",
        "    \"location\": {\n",
        "      \"lat\": 40.643852716573,\n",
        "      \"lon\": -74.011628212186\n",
        "    }\n",
        "  }\n",
        "})"
      ],
      "execution_count": null,
      "outputs": [
        {
          "output_type": "execute_result",
          "data": {
            "text/html": [
              "<div>\n",
              "<style scoped>\n",
              "    .dataframe tbody tr th:only-of-type {\n",
              "        vertical-align: middle;\n",
              "    }\n",
              "\n",
              "    .dataframe tbody tr th {\n",
              "        vertical-align: top;\n",
              "    }\n",
              "\n",
              "    .dataframe thead th {\n",
              "        text-align: right;\n",
              "    }\n",
              "</style>\n",
              "<table border=\"1\" class=\"dataframe\">\n",
              "  <thead>\n",
              "    <tr style=\"text-align: right;\">\n",
              "      <th></th>\n",
              "      <th>action</th>\n",
              "      <th>bbl</th>\n",
              "      <th>...</th>\n",
              "      <th>street</th>\n",
              "      <th>zipcode</th>\n",
              "    </tr>\n",
              "  </thead>\n",
              "  <tbody>\n",
              "    <tr>\n",
              "      <th>27616</th>\n",
              "      <td>8</td>\n",
              "      <td>3.008080e+09</td>\n",
              "      <td>...</td>\n",
              "      <td>5 AVENUE</td>\n",
              "      <td>11220.0</td>\n",
              "    </tr>\n",
              "    <tr>\n",
              "      <th>27617</th>\n",
              "      <td>8</td>\n",
              "      <td>3.008080e+09</td>\n",
              "      <td>...</td>\n",
              "      <td>5 AVENUE</td>\n",
              "      <td>11220.0</td>\n",
              "    </tr>\n",
              "    <tr>\n",
              "      <th>37083</th>\n",
              "      <td>D</td>\n",
              "      <td>3.008080e+09</td>\n",
              "      <td>...</td>\n",
              "      <td>5 AVENUE</td>\n",
              "      <td>11220.0</td>\n",
              "    </tr>\n",
              "    <tr>\n",
              "      <th>37084</th>\n",
              "      <td>D</td>\n",
              "      <td>3.008080e+09</td>\n",
              "      <td>...</td>\n",
              "      <td>5 AVENUE</td>\n",
              "      <td>11220.0</td>\n",
              "    </tr>\n",
              "    <tr>\n",
              "      <th>37085</th>\n",
              "      <td>D</td>\n",
              "      <td>3.008080e+09</td>\n",
              "      <td>...</td>\n",
              "      <td>5 AVENUE</td>\n",
              "      <td>11220.0</td>\n",
              "    </tr>\n",
              "    <tr>\n",
              "      <th>...</th>\n",
              "      <td>...</td>\n",
              "      <td>...</td>\n",
              "      <td>...</td>\n",
              "      <td>...</td>\n",
              "      <td>...</td>\n",
              "    </tr>\n",
              "    <tr>\n",
              "      <th>294554</th>\n",
              "      <td>D</td>\n",
              "      <td>3.008080e+09</td>\n",
              "      <td>...</td>\n",
              "      <td>5 AVENUE</td>\n",
              "      <td>11220.0</td>\n",
              "    </tr>\n",
              "    <tr>\n",
              "      <th>294555</th>\n",
              "      <td>D</td>\n",
              "      <td>3.008080e+09</td>\n",
              "      <td>...</td>\n",
              "      <td>5 AVENUE</td>\n",
              "      <td>11220.0</td>\n",
              "    </tr>\n",
              "    <tr>\n",
              "      <th>303637</th>\n",
              "      <td>D</td>\n",
              "      <td>3.008080e+09</td>\n",
              "      <td>...</td>\n",
              "      <td>5 AVENUE</td>\n",
              "      <td>11220.0</td>\n",
              "    </tr>\n",
              "    <tr>\n",
              "      <th>311039</th>\n",
              "      <td>D</td>\n",
              "      <td>3.008070e+09</td>\n",
              "      <td>...</td>\n",
              "      <td>5 AVENUE</td>\n",
              "      <td>11220.0</td>\n",
              "    </tr>\n",
              "    <tr>\n",
              "      <th>311040</th>\n",
              "      <td>D</td>\n",
              "      <td>3.008070e+09</td>\n",
              "      <td>...</td>\n",
              "      <td>5 AVENUE</td>\n",
              "      <td>11220.0</td>\n",
              "    </tr>\n",
              "  </tbody>\n",
              "</table>\n",
              "</div>\n",
              "<p>64 rows × 16 columns</p>"
            ],
            "text/plain": [
              "       action           bbl  ...    street  zipcode\n",
              "8493        D  3.008080e+09  ...  5 AVENUE  11220.0\n",
              "62147       F  3.008080e+09  ...  5 AVENUE  11220.0\n",
              "62148       F  3.008080e+09  ...  5 AVENUE  11220.0\n",
              "62149       F  3.008080e+09  ...  5 AVENUE  11220.0\n",
              "62150       F  3.008080e+09  ...  5 AVENUE  11220.0\n",
              "...       ...           ...  ...       ...      ...\n",
              "294554      D  3.008080e+09  ...  5 AVENUE  11220.0\n",
              "294555      D  3.008080e+09  ...  5 AVENUE  11220.0\n",
              "303637      D  3.008080e+09  ...  5 AVENUE  11220.0\n",
              "311039      D  3.008070e+09  ...  5 AVENUE  11220.0\n",
              "311040      D  3.008070e+09  ...  5 AVENUE  11220.0\n",
              "\n",
              "[64 rows x 16 columns]"
            ]
          },
          "metadata": {
            "tags": []
          },
          "execution_count": 24
        }
      ]
    },
    {
      "cell_type": "code",
      "metadata": {
        "id": "aBgwF8m0Z6JR"
      },
      "source": [
        "# Pull a subset of your data for building graphs / operations locally.\n",
        "sample_df = df[df.score == \"B\"].sample(100).to_pandas()\n",
        "sample_df.info()\n",
        "print(type(sample_df))"
      ],
      "execution_count": null,
      "outputs": []
    },
    {
      "cell_type": "code",
      "metadata": {
        "colab": {
          "base_uri": "https://localhost:8080/"
        },
        "id": "a5gi3OSlZ9Ce",
        "outputId": "b81195ef-d08c-4b42-aa93-0d480308f4d6"
      },
      "source": [
        "# Import scikit-learn and train a dataset locally\n",
        "from sklearn import datasets\n",
        "from sklearn.tree import DecisionTreeClassifier\n",
        "\n",
        "# Train the data locally\n",
        "digits = datasets.load_wine()\n",
        "print(\"Feature Names:\", digits.feature_names)\n",
        "print(\"Data example:\", digits.data[0])\n",
        "\n",
        "# Save 10, 80, and 140 for testing our model\n",
        "data = [x for i, x in enumerate(digits.data) if i not in (10, 80, 140)]\n",
        "target = [x for i, x in enumerate(digits.target) if i not in (10, 80, 140)]\n",
        "\n",
        "sk_classifier = DecisionTreeClassifier()\n",
        "sk_classifier.fit(data, target)\n",
        "\n",
        "# Test out our model against the three targets\n",
        "print(sk_classifier.predict(digits.data[[10, 80, 140]]))\n",
        "print(digits.target[[10, 80, 140]])"
      ],
      "execution_count": null,
      "outputs": [
        {
          "output_type": "stream",
          "text": [
            "Feature Names: ['alcohol', 'malic_acid', 'ash', 'alcalinity_of_ash', 'magnesium', 'total_phenols', 'flavanoids', 'nonflavanoid_phenols', 'proanthocyanins', 'color_intensity', 'hue', 'od280/od315_of_diluted_wines', 'proline']\n",
            "Data example: [1.423e+01 1.710e+00 2.430e+00 1.560e+01 1.270e+02 2.800e+00 3.060e+00\n",
            " 2.800e-01 2.290e+00 5.640e+00 1.040e+00 3.920e+00 1.065e+03]\n",
            "[0 1 2]\n",
            "[0 1 2]\n"
          ],
          "name": "stdout"
        }
      ]
    },
    {
      "cell_type": "code",
      "metadata": {
        "colab": {
          "base_uri": "https://localhost:8080/",
          "height": 367
        },
        "id": "I2BBR1AQaAM-",
        "outputId": "c04ecdaa-c22f-42ce-daaa-441728fc7bd6"
      },
      "source": [
        "from eland.ml import MLModel\n",
        "\n",
        "# Serialize the scikit-learn model into Elasticsearch\n",
        "ed_classifier = MLModel.import_model(\n",
        "  es_client=es,\n",
        "  model_id=\"wine-classifier\",\n",
        "  model=sk_classifier,\n",
        "  feature_names=digits.feature_names,\n",
        "  \n",
        ")\n",
        "\n",
        "# Capture the Elasticsearch API call w/ logging\n",
        "import logging\n",
        "logger = logging.getLogger(\"elasticsearch\")\n",
        "logger.setLevel(logging.DEBUG)\n",
        "logger.addHandler(logging.StreamHandler())\n",
        "\n",
        "# Use the same data as before, but now with the model in Elasticsearch\n",
        "print(ed_classifier.predict(digits.data[[10, 80, 140]].tolist()))\n",
        "print(digits.target[[10, 80, 140]])\n",
        "\n",
        "logger.handlers = []"
      ],
      "execution_count": null,
      "outputs": [
        {
          "output_type": "error",
          "ename": "ValueError",
          "evalue": "ignored",
          "traceback": [
            "\u001b[0;31m---------------------------------------------------------------------------\u001b[0m",
            "\u001b[0;31mValueError\u001b[0m                                Traceback (most recent call last)",
            "\u001b[0;32m<ipython-input-30-280651c413f0>\u001b[0m in \u001b[0;36m<module>\u001b[0;34m()\u001b[0m\n\u001b[1;32m      6\u001b[0m   \u001b[0mmodel_id\u001b[0m\u001b[0;34m=\u001b[0m\u001b[0;34m\"wine-classifier\"\u001b[0m\u001b[0;34m,\u001b[0m\u001b[0;34m\u001b[0m\u001b[0;34m\u001b[0m\u001b[0m\n\u001b[1;32m      7\u001b[0m   \u001b[0mmodel\u001b[0m\u001b[0;34m=\u001b[0m\u001b[0msk_classifier\u001b[0m\u001b[0;34m,\u001b[0m\u001b[0;34m\u001b[0m\u001b[0;34m\u001b[0m\u001b[0m\n\u001b[0;32m----> 8\u001b[0;31m   \u001b[0mfeature_names\u001b[0m\u001b[0;34m=\u001b[0m\u001b[0mdigits\u001b[0m\u001b[0;34m.\u001b[0m\u001b[0mfeature_names\u001b[0m\u001b[0;34m,\u001b[0m\u001b[0;34m\u001b[0m\u001b[0;34m\u001b[0m\u001b[0m\n\u001b[0m\u001b[1;32m      9\u001b[0m \u001b[0;34m\u001b[0m\u001b[0m\n\u001b[1;32m     10\u001b[0m )\n",
            "\u001b[0;32m/usr/local/lib/python3.7/dist-packages/eland/ml/ml_model.py\u001b[0m in \u001b[0;36mimport_model\u001b[0;34m(cls, es_client, model_id, model, feature_names, classification_labels, classification_weights, es_if_exists, es_compress_model_definition)\u001b[0m\n\u001b[1;32m    378\u001b[0m             \u001b[0;32mif\u001b[0m \u001b[0mml_model\u001b[0m\u001b[0;34m.\u001b[0m\u001b[0mexists_model\u001b[0m\u001b[0;34m(\u001b[0m\u001b[0;34m)\u001b[0m\u001b[0;34m:\u001b[0m\u001b[0;34m\u001b[0m\u001b[0;34m\u001b[0m\u001b[0m\n\u001b[1;32m    379\u001b[0m                 raise ValueError(\n\u001b[0;32m--> 380\u001b[0;31m                     \u001b[0;34mf\"Trained machine learning model {model_id} already exists\"\u001b[0m\u001b[0;34m\u001b[0m\u001b[0;34m\u001b[0m\u001b[0m\n\u001b[0m\u001b[1;32m    381\u001b[0m                 )\n\u001b[1;32m    382\u001b[0m         \u001b[0;32melif\u001b[0m \u001b[0mes_if_exists\u001b[0m \u001b[0;34m==\u001b[0m \u001b[0;34m\"replace\"\u001b[0m\u001b[0;34m:\u001b[0m\u001b[0;34m\u001b[0m\u001b[0;34m\u001b[0m\u001b[0m\n",
            "\u001b[0;31mValueError\u001b[0m: Trained machine learning model wine-classifier already exists"
          ]
        }
      ]
    },
    {
      "cell_type": "code",
      "metadata": {
        "colab": {
          "base_uri": "https://localhost:8080/"
        },
        "id": "sdj0agsdaCn0",
        "outputId": "4c3ebb4e-2104-4cea-8be0-8edad7b77610"
      },
      "source": [
        "json({\"pipeline\":{\"processors\":[{\"inference\":{\"model_id\":\"wine-classifier\",\"inference_config\":{\"classification\":{}},\"field_map\":{}}}]},\"docs\":[{\"_source\":{\"alcohol\":14.1,\"malic_acid\":2.16,\"ash\":2.3,\"alcalinity_of_ash\":18.0,\"magnesium\":105.0,\"total_phenols\":2.95,\"flavanoids\":3.32,\"nonflavanoid_phenols\":0.22,\"proanthocyanins\":2.38,\"color_intensity\":5.75,\"hue\":1.25,\"od280/od315_of_diluted_wines\":3.17,\"proline\":1510.0}},{\"_source\":{\"alcohol\":12.0,\"malic_acid\":0.92,\"ash\":2.0,\"alcalinity_of_ash\":19.0,\"magnesium\":86.0,\"total_phenols\":2.42,\"flavanoids\":2.26,\"nonflavanoid_phenols\":0.3,\"proanthocyanins\":1.43,\"color_intensity\":2.5,\"hue\":1.38,\"od280/od315_of_diluted_wines\":3.12,\"proline\":278.0}},{\"_source\":{\"alcohol\":12.93,\"malic_acid\":2.81,\"ash\":2.7,\"alcalinity_of_ash\":21.0,\"magnesium\":96.0,\"total_phenols\":1.54,\"flavanoids\":0.5,\"nonflavanoid_phenols\":0.53,\"proanthocyanins\":0.75,\"color_intensity\":4.6,\"hue\":0.77,\"od280/od315_of_diluted_wines\":2.31,\"proline\":600.0}}]})\n"
      ],
      "execution_count": null,
      "outputs": [
        {
          "output_type": "stream",
          "text": [
            "{\n",
            "  \"docs\": [\n",
            "    {\n",
            "      \"_source\": {\n",
            "        \"alcalinity_of_ash\": 18.0,\n",
            "        \"alcohol\": 14.1,\n",
            "        \"ash\": 2.3,\n",
            "        \"color_intensity\": 5.75,\n",
            "        \"flavanoids\": 3.32,\n",
            "        \"hue\": 1.25,\n",
            "        \"magnesium\": 105.0,\n",
            "        \"malic_acid\": 2.16,\n",
            "        \"nonflavanoid_phenols\": 0.22,\n",
            "        \"od280/od315_of_diluted_wines\": 3.17,\n",
            "        \"proanthocyanins\": 2.38,\n",
            "        \"proline\": 1510.0,\n",
            "        \"total_phenols\": 2.95\n",
            "      }\n",
            "    },\n",
            "    {\n",
            "      \"_source\": {\n",
            "        \"alcalinity_of_ash\": 19.0,\n",
            "        \"alcohol\": 12.0,\n",
            "        \"ash\": 2.0,\n",
            "        \"color_intensity\": 2.5,\n",
            "        \"flavanoids\": 2.26,\n",
            "        \"hue\": 1.38,\n",
            "        \"magnesium\": 86.0,\n",
            "        \"malic_acid\": 0.92,\n",
            "        \"nonflavanoid_phenols\": 0.3,\n",
            "        \"od280/od315_of_diluted_wines\": 3.12,\n",
            "        \"proanthocyanins\": 1.43,\n",
            "        \"proline\": 278.0,\n",
            "        \"total_phenols\": 2.42\n",
            "      }\n",
            "    },\n",
            "    {\n",
            "      \"_source\": {\n",
            "        \"alcalinity_of_ash\": 21.0,\n",
            "        \"alcohol\": 12.93,\n",
            "        \"ash\": 2.7,\n",
            "        \"color_intensity\": 4.6,\n",
            "        \"flavanoids\": 0.5,\n",
            "        \"hue\": 0.77,\n",
            "        \"magnesium\": 96.0,\n",
            "        \"malic_acid\": 2.81,\n",
            "        \"nonflavanoid_phenols\": 0.53,\n",
            "        \"od280/od315_of_diluted_wines\": 2.31,\n",
            "        \"proanthocyanins\": 0.75,\n",
            "        \"proline\": 600.0,\n",
            "        \"total_phenols\": 1.54\n",
            "      }\n",
            "    }\n",
            "  ],\n",
            "  \"pipeline\": {\n",
            "    \"processors\": [\n",
            "      {\n",
            "        \"inference\": {\n",
            "          \"field_map\": {},\n",
            "          \"inference_config\": {\n",
            "            \"classification\": {}\n",
            "          },\n",
            "          \"model_id\": \"wine-classifier\"\n",
            "        }\n",
            "      }\n",
            "    ]\n",
            "  }\n",
            "}\n"
          ],
          "name": "stdout"
        }
      ]
    },
    {
      "cell_type": "code",
      "metadata": {
        "colab": {
          "base_uri": "https://localhost:8080/"
        },
        "id": "D1XFiyiYaMgW",
        "outputId": "7f396d49-50ec-42f8-88cf-ca0f0e948c4f"
      },
      "source": [
        "json({\"docs\":[{\"doc\":{\"_index\":\"_index\",\"_type\":\"_doc\",\"_id\":\"_id\",\"_source\":{\"alcohol\":14.1,\"alcalinity_of_ash\":18.0,\"proanthocyanins\":2.38,\"od280/od315_of_diluted_wines\":3.17,\"total_phenols\":2.95,\"magnesium\":105.0,\"flavanoids\":3.32,\"proline\":1510.0,\"malic_acid\":2.16,\"ash\":2.3,\"nonflavanoid_phenols\":0.22,\"hue\":1.25,\"color_intensity\":5.75,\"ml\":{\"inference\":{\"predicted_value\":\"0\",\"model_id\":\"wine-classifier\"}}},\"_ingest\":{\"timestamp\":\"2020-07-08T15:35:49.98965Z\"}}},{\"doc\":{\"_index\":\"_index\",\"_type\":\"_doc\",\"_id\":\"_id\",\"_source\":{\"alcohol\":12.0,\"alcalinity_of_ash\":19.0,\"proanthocyanins\":1.43,\"od280/od315_of_diluted_wines\":3.12,\"total_phenols\":2.42,\"magnesium\":86.0,\"flavanoids\":2.26,\"proline\":278.0,\"malic_acid\":0.92,\"ash\":2.0,\"nonflavanoid_phenols\":0.3,\"hue\":1.38,\"color_intensity\":2.5,\"ml\":{\"inference\":{\"predicted_value\":\"1\",\"model_id\":\"wine-classifier\"}}},\"_ingest\":{\"timestamp\":\"2020-07-08T15:35:49.98966Z\"}}},{\"doc\":{\"_index\":\"_index\",\"_type\":\"_doc\",\"_id\":\"_id\",\"_source\":{\"alcohol\":12.93,\"alcalinity_of_ash\":21.0,\"proanthocyanins\":0.75,\"od280/od315_of_diluted_wines\":2.31,\"total_phenols\":1.54,\"magnesium\":96.0,\"flavanoids\":0.5,\"proline\":600.0,\"malic_acid\":2.81,\"ash\":2.7,\"nonflavanoid_phenols\":0.53,\"hue\":0.77,\"color_intensity\":4.6,\"ml\":{\"inference\":{\"predicted_value\":\"2\",\"model_id\":\"wine-classifier\"}}},\"_ingest\":{\"timestamp\":\"2020-07-08T15:35:49.989672Z\"}}}]})\n"
      ],
      "execution_count": null,
      "outputs": [
        {
          "output_type": "stream",
          "text": [
            "{\n",
            "  \"docs\": [\n",
            "    {\n",
            "      \"doc\": {\n",
            "        \"_id\": \"_id\",\n",
            "        \"_index\": \"_index\",\n",
            "        \"_ingest\": {\n",
            "          \"timestamp\": \"2020-07-08T15:35:49.98965Z\"\n",
            "        },\n",
            "        \"_source\": {\n",
            "          \"alcalinity_of_ash\": 18.0,\n",
            "          \"alcohol\": 14.1,\n",
            "          \"ash\": 2.3,\n",
            "          \"color_intensity\": 5.75,\n",
            "          \"flavanoids\": 3.32,\n",
            "          \"hue\": 1.25,\n",
            "          \"magnesium\": 105.0,\n",
            "          \"malic_acid\": 2.16,\n",
            "          \"ml\": {\n",
            "            \"inference\": {\n",
            "              \"model_id\": \"wine-classifier\",\n",
            "              \"predicted_value\": \"0\"\n",
            "            }\n",
            "          },\n",
            "          \"nonflavanoid_phenols\": 0.22,\n",
            "          \"od280/od315_of_diluted_wines\": 3.17,\n",
            "          \"proanthocyanins\": 2.38,\n",
            "          \"proline\": 1510.0,\n",
            "          \"total_phenols\": 2.95\n",
            "        },\n",
            "        \"_type\": \"_doc\"\n",
            "      }\n",
            "    },\n",
            "    {\n",
            "      \"doc\": {\n",
            "        \"_id\": \"_id\",\n",
            "        \"_index\": \"_index\",\n",
            "        \"_ingest\": {\n",
            "          \"timestamp\": \"2020-07-08T15:35:49.98966Z\"\n",
            "        },\n",
            "        \"_source\": {\n",
            "          \"alcalinity_of_ash\": 19.0,\n",
            "          \"alcohol\": 12.0,\n",
            "          \"ash\": 2.0,\n",
            "          \"color_intensity\": 2.5,\n",
            "          \"flavanoids\": 2.26,\n",
            "          \"hue\": 1.38,\n",
            "          \"magnesium\": 86.0,\n",
            "          \"malic_acid\": 0.92,\n",
            "          \"ml\": {\n",
            "            \"inference\": {\n",
            "              \"model_id\": \"wine-classifier\",\n",
            "              \"predicted_value\": \"1\"\n",
            "            }\n",
            "          },\n",
            "          \"nonflavanoid_phenols\": 0.3,\n",
            "          \"od280/od315_of_diluted_wines\": 3.12,\n",
            "          \"proanthocyanins\": 1.43,\n",
            "          \"proline\": 278.0,\n",
            "          \"total_phenols\": 2.42\n",
            "        },\n",
            "        \"_type\": \"_doc\"\n",
            "      }\n",
            "    },\n",
            "    {\n",
            "      \"doc\": {\n",
            "        \"_id\": \"_id\",\n",
            "        \"_index\": \"_index\",\n",
            "        \"_ingest\": {\n",
            "          \"timestamp\": \"2020-07-08T15:35:49.989672Z\"\n",
            "        },\n",
            "        \"_source\": {\n",
            "          \"alcalinity_of_ash\": 21.0,\n",
            "          \"alcohol\": 12.93,\n",
            "          \"ash\": 2.7,\n",
            "          \"color_intensity\": 4.6,\n",
            "          \"flavanoids\": 0.5,\n",
            "          \"hue\": 0.77,\n",
            "          \"magnesium\": 96.0,\n",
            "          \"malic_acid\": 2.81,\n",
            "          \"ml\": {\n",
            "            \"inference\": {\n",
            "              \"model_id\": \"wine-classifier\",\n",
            "              \"predicted_value\": \"2\"\n",
            "            }\n",
            "          },\n",
            "          \"nonflavanoid_phenols\": 0.53,\n",
            "          \"od280/od315_of_diluted_wines\": 2.31,\n",
            "          \"proanthocyanins\": 0.75,\n",
            "          \"proline\": 600.0,\n",
            "          \"total_phenols\": 1.54\n",
            "        },\n",
            "        \"_type\": \"_doc\"\n",
            "      }\n",
            "    }\n",
            "  ]\n",
            "}\n"
          ],
          "name": "stdout"
        }
      ]
    },
    {
      "cell_type": "code",
      "metadata": {
        "colab": {
          "base_uri": "https://localhost:8080/"
        },
        "id": "5__OPzO2aPAz",
        "outputId": "018a7d19-cd65-44ac-c93a-decd5f9f7aa5"
      },
      "source": [
        "print(df[df[\"zipcode\"] > df[\"score\"]].es_info())\n"
      ],
      "execution_count": null,
      "outputs": [
        {
          "output_type": "stream",
          "text": [
            "es_index_pattern: nyc-restaurants\n",
            "Index:\n",
            " es_index_field: _id\n",
            " is_source_field: False\n",
            "Mappings:\n",
            " capabilities:\n",
            "                     es_field_name  is_source   es_dtype es_date_format pd_dtype  is_searchable  is_aggregatable  is_scripted aggregatable_es_field_name\n",
            "action                      action       True    keyword           None   object           True             True        False                     action\n",
            "bbl                            bbl       True     double           None  float64           True             True        False                        bbl\n",
            "bin                            bin       True     double           None  float64           True             True        False                        bin\n",
            "boro                          boro       True    keyword           None   object           True             True        False                       boro\n",
            "building                  building       True    keyword           None   object           True             True        False                   building\n",
            "camis                        camis       True       long           None    int64           True             True        False                      camis\n",
            "census_tract          census_tract       True     double           None  float64           True             True        False               census_tract\n",
            "community_board    community_board       True     double           None  float64           True             True        False            community_board\n",
            "council_district  council_district       True     double           None  float64           True             True        False           council_district\n",
            "dba                            dba       True       text           None   object           True            False        False                dba.keyword\n",
            "location                  location       True  geo_point           None   object           True             True        False                   location\n",
            "nta                            nta       True    keyword           None   object           True             True        False                        nta\n",
            "phone                        phone       True    keyword           None   object           True             True        False                      phone\n",
            "score                        score       True     double           None  float64           True             True        False                      score\n",
            "street                      street       True    keyword           None   object           True             True        False                     street\n",
            "zipcode                    zipcode       True      short           None    int64           True             True        False                    zipcode\n",
            "Operations:\n",
            " tasks: [('boolean_filter': ('boolean_filter': {'script': {'script': {'source': \"doc['zipcode'].value > doc['score'].value\", 'lang': 'painless'}}}))]\n",
            " size: None\n",
            " sort_params: None\n",
            " _source: ['action', 'bbl', 'bin', 'boro', 'building', 'camis', 'census_tract', 'community_board', 'council_district', 'dba', 'location', 'nta', 'phone', 'score', 'street', 'zipcode']\n",
            " body: {'query': {'script': {'script': {'source': \"doc['zipcode'].value > doc['score'].value\", 'lang': 'painless'}}}}\n",
            " post_processing: []\n",
            "\n"
          ],
          "name": "stdout"
        }
      ]
    },
    {
      "cell_type": "code",
      "metadata": {
        "id": "XQImHhK0aRSX"
      },
      "source": [
        ""
      ],
      "execution_count": null,
      "outputs": []
    }
  ]
}